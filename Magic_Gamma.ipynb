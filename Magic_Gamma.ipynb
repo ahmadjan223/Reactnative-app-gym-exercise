{
  "nbformat": 4,
  "nbformat_minor": 0,
  "metadata": {
    "colab": {
      "provenance": [],
      "toc_visible": true,
      "authorship_tag": "ABX9TyMt+/gJnBi6amSI2AQcuJGv",
      "include_colab_link": true
    },
    "kernelspec": {
      "name": "python3",
      "display_name": "Python 3"
    },
    "language_info": {
      "name": "python"
    }
  },
  "cells": [
    {
      "cell_type": "markdown",
      "metadata": {
        "id": "view-in-github",
        "colab_type": "text"
      },
      "source": [
        "<a href=\"https://colab.research.google.com/github/ahmadjan223/Reactnative-app-gym-exercise/blob/main/Magic_Gamma.ipynb\" target=\"_parent\"><img src=\"https://colab.research.google.com/assets/colab-badge.svg\" alt=\"Open In Colab\"/></a>"
      ]
    },
    {
      "cell_type": "code",
      "execution_count": null,
      "metadata": {
        "id": "AszHd2w0dDJt",
        "collapsed": true
      },
      "outputs": [],
      "source": [
        "import numpy as np\n",
        "import pandas as pd\n",
        "import matplotlib.pyplot as plt\n",
        "# we imported for scaling data\n",
        "from sklearn.preprocessing import StandardScaler\n",
        "# to make\n",
        "from imblearn.over_sampling import RandomOverSampler\n",
        "from sklearn.naive_bayes import GaussianNB\n",
        "from sklearn.metrics import classification_report\n",
        "\n",
        "cols = [\"fLength\",\"fWidth\",\"fSize\",\"fConc\",\"fConc1\",\"fAsym\",\"fM3Long\",\"fM3Trans\",\"fAlpha\",\"fDist\",\"class\"]\n",
        "df = pd.read_csv(\"magic04.data\",names=cols)\n",
        "df[\"class\"] = (df[\"class\"]==\"g\").astype(int)\n",
        "# checking data graphs\n",
        "# for label in cols[:-1]:\n",
        "#   plt.hist(df[df[\"class\"]==1][label],color =\"green\", label=\"gamma\", alpha = 0.7,density = True )\n",
        "#   plt.hist(df[df[\"class\"]==0][label],color =\"red\", label=\"hadron\", alpha = 0.7,density = True )\n",
        "#   plt.title(label)\n",
        "#   plt.ylabel(\"probability\")\n",
        "#   plt.xlabel(label)\n",
        "#   plt.legend()\n",
        "#   plt.show()\n",
        "\n",
        "# splitting data\n",
        "train, valid, test = np.split(df.sample(frac=1),[int(0.6*len(df)),int(0.8*len(df))])\n",
        "# function for validating data\n",
        "def scale_dataset(dataframe,oversample=False):\n",
        "  x= dataframe[dataframe.columns[:-1]].values\n",
        "  y= dataframe[dataframe.columns[-1]].values\n",
        "  scaler = StandardScaler()\n",
        "  x = scaler.fit_transform(x)\n",
        "  if oversample:\n",
        "    ros = RandomOverSampler()\n",
        "    x,y = ros.fit_resample(x,y)\n",
        "  data = np.hstack((x,np.reshape(y,(-1,1))))\n",
        "  return data,x,y\n",
        "\n",
        "train, x_train, y_train = scale_dataset(train,oversample=True)\n",
        "valid, x_valid, y_valid = scale_dataset(valid,oversample=False)\n",
        "test, x_test, y_test = scale_dataset(test,oversample=False)\n"
      ]
    },
    {
      "cell_type": "code",
      "source": [],
      "metadata": {
        "id": "vaJtksO1LQ1w"
      },
      "execution_count": null,
      "outputs": []
    },
    {
      "cell_type": "markdown",
      "source": [
        "#nave byes nodel"
      ],
      "metadata": {
        "id": "_EuXHjSJ3WfS"
      }
    },
    {
      "cell_type": "code",
      "source": [
        "nb_model = GaussianNB()\n",
        "nb_model = nb_model.fit (x_train,y_train)\n",
        "y_pred = nb_model.predict(x_test)\n",
        "print(classification_report(y_test,y_pred))"
      ],
      "metadata": {
        "colab": {
          "base_uri": "https://localhost:8080/"
        },
        "id": "USajYm1L3WI7",
        "outputId": "875f3117-5bd3-4132-aabb-910712471f34"
      },
      "execution_count": null,
      "outputs": [
        {
          "output_type": "stream",
          "name": "stdout",
          "text": [
            "              precision    recall  f1-score   support\n",
            "\n",
            "           0       0.69      0.40      0.51      1383\n",
            "           1       0.72      0.90      0.80      2421\n",
            "\n",
            "    accuracy                           0.72      3804\n",
            "   macro avg       0.71      0.65      0.65      3804\n",
            "weighted avg       0.71      0.72      0.69      3804\n",
            "\n"
          ]
        }
      ]
    },
    {
      "cell_type": "markdown",
      "source": [
        "k nearest neighbors model"
      ],
      "metadata": {
        "id": "s4M3IA_24UAG"
      }
    },
    {
      "cell_type": "code",
      "source": [
        "from sklearn.neighbors import KNeighborsClassifier\n",
        "knn = KNeighborsClassifier(n_neighbors=5)\n",
        "knn.fit(x_train,y_train)\n",
        "y_pred = knn.predict(x_test)\n",
        "print(classification_report(y_test,y_pred))"
      ],
      "metadata": {
        "colab": {
          "base_uri": "https://localhost:8080/"
        },
        "id": "IHb5mIXE3jUi",
        "outputId": "364a8f14-bb6e-4356-847a-59fb04ad97c7"
      },
      "execution_count": null,
      "outputs": [
        {
          "output_type": "stream",
          "name": "stdout",
          "text": [
            "              precision    recall  f1-score   support\n",
            "\n",
            "           0       0.76      0.74      0.75      1383\n",
            "           1       0.85      0.86      0.86      2421\n",
            "\n",
            "    accuracy                           0.82      3804\n",
            "   macro avg       0.80      0.80      0.80      3804\n",
            "weighted avg       0.82      0.82      0.82      3804\n",
            "\n"
          ]
        }
      ]
    },
    {
      "cell_type": "markdown",
      "source": [
        "#logistic regression"
      ],
      "metadata": {
        "id": "QCokt2tfSPmD"
      }
    },
    {
      "cell_type": "markdown",
      "source": [
        "#svm"
      ],
      "metadata": {
        "id": "4HvfsH12T90t"
      }
    },
    {
      "cell_type": "code",
      "source": [
        "from sklearn.svm import SVC\n",
        "svm = SVC()\n",
        "svm.fit(x_train,y_train)\n",
        "y_pred = svm.predict(x_test)\n",
        "print(classification_report(y_test,y_pred))"
      ],
      "metadata": {
        "colab": {
          "base_uri": "https://localhost:8080/"
        },
        "id": "45C9ktLLSYZY",
        "outputId": "f2c70005-9296-45a5-e0d6-0248ca190551"
      },
      "execution_count": null,
      "outputs": [
        {
          "output_type": "stream",
          "name": "stdout",
          "text": [
            "              precision    recall  f1-score   support\n",
            "\n",
            "           0       0.82      0.79      0.80      1383\n",
            "           1       0.88      0.90      0.89      2421\n",
            "\n",
            "    accuracy                           0.86      3804\n",
            "   macro avg       0.85      0.84      0.85      3804\n",
            "weighted avg       0.86      0.86      0.86      3804\n",
            "\n"
          ]
        }
      ]
    },
    {
      "cell_type": "code",
      "source": [],
      "metadata": {
        "id": "emmqVlnaUBXa"
      },
      "execution_count": null,
      "outputs": []
    }
  ]
}